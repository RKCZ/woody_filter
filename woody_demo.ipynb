{
 "cells": [
  {
   "cell_type": "markdown",
   "source": [
    "Demo of Woody adaptive filter\n",
    "==\n",
    "This notebook demonstrates basic usage of `woody_filter` python module."
   ],
   "metadata": {
    "collapsed": false
   }
  },
  {
   "cell_type": "code",
   "execution_count": 5,
   "metadata": {},
   "outputs": [],
   "source": [
    "import mne\n",
    "import os\n",
    "import matplotlib.pyplot as plt\n",
    "import numpy as np\n",
    "import woody_filter"
   ]
  },
  {
   "cell_type": "markdown",
   "source": [
    "Next cell demonstrates usage of `woody_filter_raw` on synthetic data signal.\n",
    "Firstly, time range and arbitrary math function are specified.\n",
    "Some utility functions for visualization and signal generation are defined.\n",
    "Variables `t` and `signal` can be modified for experimentation, as well as parameters of the `test_signal` function."
   ],
   "metadata": {
    "collapsed": false,
    "pycharm": {
     "name": "#%% md\n"
    }
   }
  },
  {
   "cell_type": "code",
   "execution_count": 6,
   "outputs": [
    {
     "name": "stdout",
     "output_type": "stream",
     "text": [
      "Correlation coefficient: 1.0\n",
      "Correlation coefficient: 0.9416693698235687\n",
      "Correlation coefficient: 0.15350681657119591\n"
     ]
    }
   ],
   "source": [
    "t = np.linspace(-0.2, 1., 1000)\n",
    "signal = 0.05 * np.sin(80 * np.pi * t) + 0.05 * np.cos(60 * np.pi * t) +\\\n",
    "         np.sin(50 * np.pi * t - np.pi / 4) * np.exp(0.1 * np.hstack((-1*np.arange(500, 0, -1), 0, -1*np.arange(1, 500))))\n",
    "\n",
    "def __visualize(noisy_signal, result, original_fcn, channel_index = 0):\n",
    "    \"\"\"\n",
    "    Plots a single channel of the filtered averaged signal as well as the original signal,\n",
    "     time-locked average and unfiltered epochs.\n",
    "    :param noisy_signal: Array of unfiltered epochs.\n",
    "    :param result: Array of filtered epochs.\n",
    "    :param original_fcn: Original signal samples.\n",
    "    :param channel_index: Index of channel to visualize\n",
    "    \"\"\"\n",
    "    n_elements = noisy_signal.shape[0]\n",
    "    plt.plot(np.tile(t, (n_elements, 1)), noisy_signal[:, channel_index, :], 'y', alpha=0.2)\n",
    "    plt.plot(t, original_fcn, '-.k', label='original fcn')\n",
    "    plt.plot(t, np.mean(result[:, channel_index, :], axis=0), 'r', label='Woody')\n",
    "    plt.plot(t, np.mean(noisy_signal[:, channel_index, :], axis=0), 'c', label='Normal Avg')\n",
    "    plt.legend()\n",
    "    plt.show()\n",
    "\n",
    "def __noisify(original_signal, n_epochs=50, n_channels=22, max_shift=0,noise_variance = 0.):\n",
    "    \"\"\"\n",
    "    Generates artificial signal from the original signal, shifts it randomly and adds random noise component.\n",
    "    :param original_signal: Original signal as NumPy array\n",
    "    :param n_epochs: Number of epochs to generate.\n",
    "    :param n_channels: Number of channels to generate.\n",
    "    :param max_shift: Maximal number of samples to shift the original signal while generating epochs.\n",
    "    :param noise_variance: Variance of the Gaussian distribution used to generate noise.\n",
    "    :return: Signal generated from original signal.\n",
    "    \"\"\"\n",
    "    data = np.tile(original_signal, (n_epochs * n_channels, 1))\n",
    "    data = data.reshape((n_epochs, n_channels, -1))\n",
    "    lags = (np.random.random(data.shape[0]) - 0.5) * (2 * max_shift)\n",
    "    for i in range(n_epochs):\n",
    "        data[i, :, :] = np.roll(data[i, :, :], int(np.round(lags[i])))\n",
    "    noise = np.random.normal(0, noise_variance, data.shape)\n",
    "    return data + noise\n",
    "\n",
    "def test_signal(original_signal, noise_variance = 0.0, max_shift = 0):\n",
    "    \"\"\"\n",
    "    Generates artificial signal from original, applies woody filter and visualizes the results.\n",
    "    :param original_signal: Samples of original signal.\n",
    "    :param noise_variance: Variance of noise added to generated signal.\n",
    "    :param max_shift: Maximal shift of the generated signal against the original.\n",
    "    \"\"\"\n",
    "    noisy_signal = __noisify(original_signal, max_shift=max_shift, noise_variance=noise_variance)\n",
    "    channel = 0\n",
    "    result, _, corr_coeffs = woody_filter.woody_filter_raw(noisy_signal)\n",
    "    print('Correlation coefficient: {}'.format(corr_coeffs[channel]))\n",
    "    __visualize(noisy_signal, result, original_signal, channel)\n",
    "\n",
    "test_signal(signal, noise_variance=0, max_shift=160)\n",
    "test_signal(signal, noise_variance=0.03, max_shift=160)\n",
    "test_signal(np.zeros(t.shape), noise_variance=0.35)"
   ],
   "metadata": {
    "collapsed": false,
    "pycharm": {
     "name": "#%%\n"
    }
   }
  },
  {
   "cell_type": "markdown",
   "source": [
    "Next cell demonstrates usage of the python-MNE wrapper function to filter EEG epochs extracted from sample dataset\n",
    "distributed along MNE. The example is based on the following tutorial:\n",
    "https://mne.tools/stable/auto_tutorials/evoked/plot_10_evoked_overview.html#the-evoked-data-structure-evoked-averaged-data\n",
    "From the raw signal are extracted EEG epochs related to auditory stimuli. These epochs are passed to `woody_filter`\n",
    "function. Aligned epochs are converted to MNE Evoked object and plotted."
   ],
   "metadata": {
    "collapsed": false,
    "pycharm": {
     "name": "#%% md\n"
    }
   }
  },
  {
   "cell_type": "code",
   "execution_count": 7,
   "outputs": [
    {
     "name": "stdout",
     "output_type": "stream",
     "text": [
      "320 events found\n",
      "Event IDs: [ 1  2  3  4  5 32]\n",
      "Not setting metadata\n",
      "Not setting metadata\n",
      "145 matching events found\n",
      "Setting baseline interval to [-0.2996928197375818, 0.0] sec\n",
      "Applying baseline correction (mode: mean)\n",
      "0 projection items activated\n",
      "Loading data for 145 events and 601 original time points ...\n",
      "0 bad epochs dropped\n",
      "Not setting metadata\n",
      "Not setting metadata\n",
      "145 matching events found\n",
      "No baseline correction applied\n",
      "0 projection items activated\n",
      "0 bad epochs dropped\n",
      "Correlation coefficient: 0.4560736480309911\n"
     ]
    },
    {
     "data": {
      "text/plain": "Canvas(toolbar=Toolbar(toolitems=[('Home', 'Reset original view', 'home', 'home'), ('Back', 'Back to previous …",
      "application/vnd.jupyter.widget-view+json": {
       "version_major": 2,
       "version_minor": 0,
       "model_id": "9e0f31bd7c4b4935962a5c69c64f17bd"
      }
     },
     "metadata": {},
     "output_type": "display_data"
    }
   ],
   "source": [
    "%matplotlib widget\n",
    "\n",
    "sample_data_folder = mne.datasets.sample.data_path()\n",
    "sample_data_raw_file = os.path.join(sample_data_folder, 'MEG', 'sample',\n",
    "                                    'sample_audvis_raw.fif')\n",
    "raw = mne.io.read_raw_fif(sample_data_raw_file, verbose=False)\n",
    "raw = raw.pick_types(emg=False, eeg=True, eog=False, stim=True)\n",
    "\n",
    "events = mne.find_events(raw, stim_channel='STI 014')\n",
    "event_dict = {'auditory/left': 1, 'auditory/right': 2}\n",
    "epochs = mne.Epochs(raw, events, tmin=-0.3, tmax=0.7, event_id=event_dict,\n",
    "                    preload=True)\n",
    "\n",
    "epochs = epochs.pick_types(eeg=True)\n",
    "filtered_epochs, latencies, correlations = woody_filter.woody_filter(epochs)\n",
    "filtered_evokeds = filtered_epochs.average()\n",
    "filtered_evokeds.plot()\n",
    "print('Average of averaged correlation coefficients over all channels: {}'.format(correlations.mean()))"
   ],
   "metadata": {
    "collapsed": false,
    "pycharm": {
     "name": "#%%\n"
    }
   }
  }
 ],
 "metadata": {
  "kernelspec": {
   "display_name": "PyCharm (project)",
   "language": "python",
   "name": "pycharm-daaac1ef"
  },
  "language_info": {
   "codemirror_mode": {
    "name": "ipython",
    "version": 3
   },
   "file_extension": ".py",
   "mimetype": "text/x-python",
   "name": "python",
   "nbconvert_exporter": "python",
   "pygments_lexer": "ipython3",
   "version": "3.8.5"
  }
 },
 "nbformat": 4,
 "nbformat_minor": 1
}